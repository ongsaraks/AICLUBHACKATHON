{
  "nbformat": 4,
  "nbformat_minor": 0,
  "metadata": {
    "colab": {
      "provenance": [],
      "gpuType": "T4",
      "include_colab_link": true
    },
    "kernelspec": {
      "name": "python3",
      "display_name": "Python 3"
    },
    "language_info": {
      "name": "python"
    },
    "accelerator": "GPU"
  },
  "cells": [
    {
      "cell_type": "markdown",
      "metadata": {
        "id": "view-in-github",
        "colab_type": "text"
      },
      "source": [
        "<a href=\"https://colab.research.google.com/github/ongsaraks/AICLUBHACKATHON/blob/main/example_classification_code_for_hackathon_aaa.ipynb\" target=\"_parent\"><img src=\"https://colab.research.google.com/assets/colab-badge.svg\" alt=\"Open In Colab\"/></a>"
      ]
    },
    {
      "cell_type": "markdown",
      "source": [
        "# Hackathon AAA starter code\n",
        "\n",
        "The file `labeled_data.zip` consists of 2 folders.\n",
        "- `train`\n",
        "- `test`\n",
        "\n",
        "All of the content in `train` can be used for train the model. It consists of image in the `img` folder and label in `dataset_info.csv`.\n",
        "\n",
        "The content in `test` must be used for submit score only. There will be only image in the `img` folder but there won't be label.\n",
        "\n",
        "The code below is an example of how to tackle the problem presented in hackathon.\n",
        "\n",
        "By doing nothing and run every cell in this notebook, it should produce F1 score around 0.6 on test set. Your task is to improve the F1 score on test set.\n",
        "\n",
        "There are hints scatter around the code below, most of them are what is generally works for most machine learning model."
      ],
      "metadata": {
        "id": "H9rqP-XyzOBM"
      }
    },
    {
      "cell_type": "code",
      "source": [
        "# !unzip labeled_data.zip"
      ],
      "metadata": {
        "collapsed": true,
        "id": "3ZMoCZ48gW7Z"
      },
      "execution_count": 31,
      "outputs": []
    },
    {
      "cell_type": "code",
      "source": [
        "import os\n",
        "from time import perf_counter\n",
        "import pandas as pd\n",
        "import json\n",
        "import torch\n",
        "from torch import nn\n",
        "from torch.utils.data import DataLoader, Dataset, Subset\n",
        "import torchvision\n",
        "from torchvision.transforms import v2 as transforms\n",
        "from PIL import Image\n",
        "from sklearn.metrics import f1_score\n",
        "import matplotlib.pyplot as plt"
      ],
      "metadata": {
        "id": "zPvaU-AyVr9y"
      },
      "execution_count": 32,
      "outputs": []
    },
    {
      "cell_type": "code",
      "source": [
        "import os\n",
        "import torch\n",
        "import pandas as pd\n",
        "from PIL import Image\n",
        "from torch.utils.data import Dataset\n",
        "from torchvision import transforms\n",
        "from sklearn.metrics import f1_score\n",
        "\n",
        "class BasicAAADataset(Dataset):\n",
        "    def __init__(self, img_dir, dataset_info, num_classes, random_crop=False, resize_size=224) -> None:\n",
        "        pil2tensor = transforms.PILToTensor()\n",
        "        if random_crop:\n",
        "            transform = transforms.Compose([\n",
        "                transforms.RandomResizedCrop(resize_size, scale=(0.8, 1.0), interpolation=transforms.InterpolationMode.NEAREST),\n",
        "                pil2tensor\n",
        "            ])\n",
        "        else:\n",
        "            transform = transforms.Compose([\n",
        "                transforms.Resize(resize_size, antialias=False, interpolation=transforms.InterpolationMode.NEAREST),\n",
        "                pil2tensor\n",
        "            ])\n",
        "        imgs = []\n",
        "        labels = []\n",
        "        for idx, row in dataset_info.iterrows():\n",
        "            with Image.open(os.path.join(img_dir, row[\"img_name\"])) as img_f:\n",
        "                img = transform(img_f)\n",
        "            label = torch.zeros((num_classes,))\n",
        "            for cls_name, cls_idx in class_labels.items():\n",
        "                if row[cls_name] == 1:\n",
        "                    label[cls_idx] = 1\n",
        "\n",
        "            imgs.append(img)\n",
        "            labels.append(label)\n",
        "\n",
        "        self.x = torch.stack(imgs).float()\n",
        "        self.y = torch.stack(labels)\n",
        "        self.n = len(self.x)\n",
        "        self.num_classes = num_classes\n",
        "\n",
        "    def __getitem__(self, idx):\n",
        "        return self.x[idx], self.y[idx]\n",
        "\n",
        "    def __len__(self):\n",
        "        return self.n\n",
        "\n",
        "\n",
        "class BasicAAADatasetWOLabel(Dataset):\n",
        "    def __init__(self, img_dir, dataset_info, random_crop=False, resize_size=224) -> None:\n",
        "        pil2tensor = transforms.PILToTensor()\n",
        "        if random_crop:\n",
        "            transform = transforms.Compose([\n",
        "                transforms.RandomResizedCrop(resize_size, scale=(0.8, 1.0), interpolation=transforms.InterpolationMode.NEAREST),\n",
        "                pil2tensor\n",
        "            ])\n",
        "        else:\n",
        "            transform = transforms.Compose([\n",
        "                transforms.Resize(resize_size, antialias=False, interpolation=transforms.InterpolationMode.NEAREST),\n",
        "                pil2tensor\n",
        "            ])\n",
        "        imgs = []\n",
        "        for idx, row in dataset_info.iterrows():\n",
        "            with Image.open(os.path.join(img_dir, row[\"img_name\"])) as img_f:\n",
        "                img = transform(img_f)\n",
        "            imgs.append(img)\n",
        "\n",
        "        self.x = torch.stack(imgs).float()\n",
        "        self.n = len(self.x)\n",
        "\n",
        "    def __getitem__(self, idx):\n",
        "        return self.x[idx]\n",
        "\n",
        "    def __len__(self):\n",
        "        return self.n\n",
        "\n",
        "\n",
        "def compute_f1_score(y_true, y_pred):\n",
        "    y_true = y_true.flatten()\n",
        "    y_pred = y_pred.flatten()\n",
        "    return f1_score(y_true, y_pred, average=\"macro\")\n",
        "\n",
        "\n",
        "def train(dataloader, model, loss_fn, optimizer):\n",
        "    num_batches = len(dataloader)\n",
        "    model.train()\n",
        "    loss_epoch = 0\n",
        "    y_true = []\n",
        "    y_pred = []\n",
        "    for X, y in dataloader:\n",
        "        X, y = X.to(device), y.to(device)\n",
        "\n",
        "        # Compute prediction error\n",
        "        pred = model(X)\n",
        "        loss = loss_fn(pred, y)\n",
        "\n",
        "        # Backpropagation\n",
        "        optimizer.zero_grad()\n",
        "        loss.backward()\n",
        "        optimizer.step()\n",
        "\n",
        "        loss_epoch += loss.item()\n",
        "        pred = (torch.sigmoid(pred) > 0.5).float()\n",
        "        y_true.append(y.detach().cpu())\n",
        "        y_pred.append(pred.detach().cpu())\n",
        "\n",
        "    y_true = torch.cat(y_true)\n",
        "    y_pred = torch.cat(y_pred)\n",
        "    f1 = compute_f1_score(y_true, y_pred)\n",
        "    loss_epoch /= num_batches\n",
        "    return {\"train_loss\": loss_epoch, \"f1_score\": f1}\n",
        "\n",
        "\n",
        "@torch.no_grad()\n",
        "def test(dataloader, model, loss_fn, threshold=0.3):\n",
        "    num_batches = len(dataloader)\n",
        "    model.eval()\n",
        "    test_loss = 0\n",
        "    y_true = []\n",
        "    y_pred = []\n",
        "    for X, y in dataloader:\n",
        "        X, y = X.to(device), y.to(device)\n",
        "        pred = model(X)\n",
        "        test_loss += loss_fn(pred, y).item()\n",
        "        pred = (torch.sigmoid(pred) > threshold).float()  # adjustable threshold\n",
        "        y_true.append(y.cpu())\n",
        "        y_pred.append(pred.cpu())\n",
        "\n",
        "    y_true = torch.cat(y_true)\n",
        "    y_pred = torch.cat(y_pred)\n",
        "    f1 = compute_f1_score(y_true, y_pred)\n",
        "    test_loss /= num_batches\n",
        "    return {\"test_loss\": test_loss, \"f1_score\": f1}\n",
        "\n",
        "\n",
        "@torch.no_grad()\n",
        "def save_prediction(model, test_dataloader, test_dataset_info, class_labels, threshold=0.5):\n",
        "    model.eval()\n",
        "    y_pred_all = []\n",
        "    for x in test_dataloader:\n",
        "        x = x.to(device)\n",
        "        y_pred = torch.sigmoid(model(x))\n",
        "        y_pred_all.append(y_pred)\n",
        "\n",
        "    y_pred_all = torch.cat(y_pred_all, dim=0)\n",
        "    y_pred_all = (y_pred_all > threshold).int()\n",
        "    y_pred_all = y_pred_all.cpu()\n",
        "    prediction = {cls_name: y_pred_all[:, cls_idx] for cls_name, cls_idx in class_labels.items()}\n",
        "    prediction_df = pd.DataFrame(prediction)\n",
        "\n",
        "    img_name_df = test_dataset_info[[\"img_name\"]]\n",
        "    export_df = pd.concat([img_name_df, prediction_df], axis=1)\n",
        "    export_df.to_csv(\"prediction.csv\", index=False)\n"
      ],
      "metadata": {
        "id": "vm88AFlT6Aes"
      },
      "execution_count": 33,
      "outputs": []
    },
    {
      "cell_type": "code",
      "source": [
        "device = torch.device(\"cuda\") if torch.cuda.is_available() else torch.device(\"cpu\")\n",
        "train_csv_path = \"labeled_data/train/dataset_info.csv\"\n",
        "train_img_path = \"labeled_data/train/img\"\n",
        "\n",
        "class_labels_path = \"labeled_data/train/class_labels.json\"\n",
        "\n",
        "print(\"Loading dataset\")\n",
        "with open(class_labels_path) as f:\n",
        "    class_labels = json.load(f)\n",
        "    num_classes = len(class_labels)\n",
        "all_dataset_info = pd.read_csv(train_csv_path)\n",
        "\n",
        "all_dataset = BasicAAADataset(train_img_path, all_dataset_info, num_classes)\n",
        "whole_dataset_size = len(all_dataset)\n",
        "train_dataset_size = round(whole_dataset_size*0.7)\n",
        "train_dataset = Subset(all_dataset, range(0, train_dataset_size))\n",
        "train_dataloader = DataLoader(train_dataset, batch_size=64, shuffle=True, num_workers=0)\n",
        "\n",
        "val_dataset = Subset(all_dataset, range(train_dataset_size, whole_dataset_size))\n",
        "val_dataloader = DataLoader(val_dataset, batch_size=64, shuffle=False, num_workers=0)"
      ],
      "metadata": {
        "colab": {
          "base_uri": "https://localhost:8080/"
        },
        "id": "Tt2ZhT4gVxy-",
        "outputId": "3ed23d25-5bcf-4108-ee33-7f82e7e1bfa5"
      },
      "execution_count": 34,
      "outputs": [
        {
          "output_type": "stream",
          "name": "stdout",
          "text": [
            "Loading dataset\n"
          ]
        },
        {
          "output_type": "stream",
          "name": "stderr",
          "text": [
            "/usr/local/lib/python3.10/dist-packages/torchvision/transforms/functional.py:475: UserWarning: Anti-alias option is always applied for PIL Image input. Argument antialias is ignored.\n",
            "  warnings.warn(\"Anti-alias option is always applied for PIL Image input. Argument antialias is ignored.\")\n"
          ]
        }
      ]
    },
    {
      "cell_type": "code",
      "source": [
        "print(\"Initalize model\")\n",
        "# Hint: One can try change model architecture, research on your own\n",
        "model = torchvision.models.mobilenet_v2(weights=torchvision.models.MobileNet_V2_Weights.DEFAULT)\n",
        "# print(model)\n",
        "\n",
        "# Fixing expected img channel, since our data has only 1 channel, different from mobilenet's expectation\n",
        "conv_existing_out_channels = model.features[0][0].out_channels\n",
        "conv_existing_kernel_size = model.features[0][0].kernel_size\n",
        "conv_existing_stride = model.features[0][0].stride\n",
        "conv_existing_padding = model.features[0][0].padding\n",
        "conv_existing_bias = model.features[0][0].bias\n",
        "model.features[0][0] = nn.Conv2d(1, conv_existing_out_channels, conv_existing_kernel_size, conv_existing_stride, conv_existing_padding, bias=conv_existing_bias)\n",
        "\n",
        "# Fixing out classifier, making number of classes be the same of our data\n",
        "existing_in_features = model.classifier[1].in_features\n",
        "model.classifier[1] = nn.Linear(existing_in_features, num_classes)\n",
        "\n",
        "model = model.to(device)\n",
        "\n",
        "# Hint: play with lr and pos weight\n",
        "optimizer = torch.optim.Adam(model.parameters(), lr=1e-5)\n",
        "loss_fn = nn.BCEWithLogitsLoss(pos_weight=torch.tensor(1))\n",
        "# print(model)\n",
        "\n",
        "train_metrics = []\n",
        "val_metrics = []"
      ],
      "metadata": {
        "colab": {
          "base_uri": "https://localhost:8080/"
        },
        "id": "9nBi8zcwj-on",
        "outputId": "29c3eec6-0bf9-4850-841c-159dddf3be11"
      },
      "execution_count": 35,
      "outputs": [
        {
          "output_type": "stream",
          "name": "stdout",
          "text": [
            "Initalize model\n"
          ]
        }
      ]
    },
    {
      "cell_type": "code",
      "source": [
        "n_epochs = 50\n",
        "print(\"Start training!\")\n",
        "for epoch in range(n_epochs):\n",
        "    start_train_time = perf_counter()\n",
        "    train_metrics_epoch = train(train_dataloader, model, loss_fn, optimizer)\n",
        "    train_elapsed = perf_counter() - start_train_time\n",
        "\n",
        "    # hint: One can try save the best model with respect to the validation metrics. eg. if model at epoch 23 produces the best value of f1, we may use that model for produce model prediction instead of model at last epoch\n",
        "    start_test_time = perf_counter()\n",
        "    val_metrics_epoch = test(val_dataloader, model, loss_fn)\n",
        "    val_elapsed = perf_counter() - start_test_time\n",
        "\n",
        "    train_metrics.append(train_metrics_epoch)\n",
        "    val_metrics.append(val_metrics_epoch)\n",
        "\n",
        "    print(f'epoch {epoch}: train elapsed {train_elapsed:.1f}s val elapsed {val_elapsed:.1f}s | train loss: {train_metrics_epoch[\"train_loss\"]:.6f} train f1: {train_metrics_epoch[\"f1_score\"]:.6f} val loss: {val_metrics_epoch[\"test_loss\"]:.6f} val f1: {val_metrics_epoch[\"f1_score\"]:.6f}')"
      ],
      "metadata": {
        "colab": {
          "base_uri": "https://localhost:8080/"
        },
        "id": "PE27N_0xkDQN",
        "outputId": "2bd77a24-8381-4e73-b3d9-ace237ae3548"
      },
      "execution_count": 36,
      "outputs": [
        {
          "output_type": "stream",
          "name": "stdout",
          "text": [
            "Start training!\n",
            "epoch 0: train elapsed 7.8s val elapsed 0.9s | train loss: 0.680840 train f1: 0.524769 val loss: 0.677331 val f1: 0.266720\n",
            "epoch 1: train elapsed 7.9s val elapsed 0.9s | train loss: 0.659235 train f1: 0.618966 val loss: 0.667217 val f1: 0.266720\n",
            "epoch 2: train elapsed 7.9s val elapsed 0.9s | train loss: 0.638081 train f1: 0.695049 val loss: 0.653721 val f1: 0.266720\n",
            "epoch 3: train elapsed 7.7s val elapsed 0.9s | train loss: 0.617589 train f1: 0.739806 val loss: 0.639216 val f1: 0.267367\n",
            "epoch 4: train elapsed 7.7s val elapsed 0.9s | train loss: 0.599029 train f1: 0.769031 val loss: 0.628130 val f1: 0.269305\n",
            "epoch 5: train elapsed 7.6s val elapsed 0.9s | train loss: 0.581739 train f1: 0.781338 val loss: 0.619498 val f1: 0.280179\n",
            "epoch 6: train elapsed 7.6s val elapsed 0.9s | train loss: 0.563154 train f1: 0.797406 val loss: 0.607435 val f1: 0.327337\n",
            "epoch 7: train elapsed 7.6s val elapsed 0.9s | train loss: 0.546635 train f1: 0.805328 val loss: 0.597220 val f1: 0.384314\n",
            "epoch 8: train elapsed 7.7s val elapsed 0.9s | train loss: 0.529529 train f1: 0.810606 val loss: 0.588907 val f1: 0.464431\n",
            "epoch 9: train elapsed 7.7s val elapsed 0.9s | train loss: 0.512988 train f1: 0.821515 val loss: 0.583759 val f1: 0.491217\n",
            "epoch 10: train elapsed 7.8s val elapsed 0.9s | train loss: 0.497625 train f1: 0.829808 val loss: 0.574801 val f1: 0.573242\n",
            "epoch 11: train elapsed 7.7s val elapsed 0.9s | train loss: 0.480204 train f1: 0.834643 val loss: 0.572199 val f1: 0.595700\n",
            "epoch 12: train elapsed 7.7s val elapsed 0.9s | train loss: 0.465530 train f1: 0.833766 val loss: 0.565683 val f1: 0.618807\n",
            "epoch 13: train elapsed 7.7s val elapsed 0.9s | train loss: 0.447205 train f1: 0.840174 val loss: 0.564529 val f1: 0.621581\n",
            "epoch 14: train elapsed 7.7s val elapsed 0.9s | train loss: 0.428573 train f1: 0.851419 val loss: 0.556331 val f1: 0.649956\n",
            "epoch 15: train elapsed 7.7s val elapsed 0.9s | train loss: 0.416309 train f1: 0.854561 val loss: 0.555082 val f1: 0.659324\n",
            "epoch 16: train elapsed 7.7s val elapsed 0.9s | train loss: 0.396717 train f1: 0.862565 val loss: 0.550103 val f1: 0.663169\n",
            "epoch 17: train elapsed 7.7s val elapsed 0.9s | train loss: 0.382441 train f1: 0.867792 val loss: 0.552296 val f1: 0.669427\n",
            "epoch 18: train elapsed 7.7s val elapsed 0.9s | train loss: 0.367285 train f1: 0.872570 val loss: 0.544976 val f1: 0.679820\n",
            "epoch 19: train elapsed 7.7s val elapsed 0.9s | train loss: 0.349298 train f1: 0.880124 val loss: 0.551310 val f1: 0.673624\n",
            "epoch 20: train elapsed 8.0s val elapsed 0.9s | train loss: 0.336494 train f1: 0.883771 val loss: 0.537680 val f1: 0.685712\n",
            "epoch 21: train elapsed 7.7s val elapsed 0.9s | train loss: 0.314212 train f1: 0.891314 val loss: 0.555199 val f1: 0.674696\n",
            "epoch 22: train elapsed 7.7s val elapsed 0.9s | train loss: 0.303515 train f1: 0.889169 val loss: 0.559021 val f1: 0.669115\n",
            "epoch 23: train elapsed 7.7s val elapsed 0.9s | train loss: 0.288656 train f1: 0.900765 val loss: 0.551756 val f1: 0.681002\n",
            "epoch 24: train elapsed 7.7s val elapsed 0.9s | train loss: 0.276638 train f1: 0.903414 val loss: 0.561390 val f1: 0.672748\n",
            "epoch 25: train elapsed 7.7s val elapsed 0.9s | train loss: 0.257155 train f1: 0.911809 val loss: 0.569126 val f1: 0.671935\n",
            "epoch 26: train elapsed 7.7s val elapsed 0.9s | train loss: 0.252817 train f1: 0.917348 val loss: 0.562182 val f1: 0.672052\n",
            "epoch 27: train elapsed 7.7s val elapsed 0.9s | train loss: 0.239755 train f1: 0.923042 val loss: 0.576207 val f1: 0.669790\n",
            "epoch 28: train elapsed 7.7s val elapsed 0.9s | train loss: 0.221505 train f1: 0.928306 val loss: 0.585380 val f1: 0.672249\n",
            "epoch 29: train elapsed 7.7s val elapsed 0.9s | train loss: 0.216867 train f1: 0.928656 val loss: 0.592045 val f1: 0.672757\n",
            "epoch 30: train elapsed 7.7s val elapsed 0.9s | train loss: 0.204901 train f1: 0.934728 val loss: 0.593280 val f1: 0.671285\n",
            "epoch 31: train elapsed 7.7s val elapsed 0.9s | train loss: 0.194602 train f1: 0.935611 val loss: 0.608856 val f1: 0.661578\n",
            "epoch 32: train elapsed 7.7s val elapsed 0.9s | train loss: 0.186292 train f1: 0.941618 val loss: 0.611636 val f1: 0.665156\n",
            "epoch 33: train elapsed 7.7s val elapsed 0.9s | train loss: 0.174970 train f1: 0.942527 val loss: 0.612040 val f1: 0.671885\n",
            "epoch 34: train elapsed 7.7s val elapsed 0.9s | train loss: 0.169537 train f1: 0.945483 val loss: 0.632610 val f1: 0.671021\n",
            "epoch 35: train elapsed 7.7s val elapsed 0.9s | train loss: 0.161151 train f1: 0.947484 val loss: 0.636019 val f1: 0.670675\n",
            "epoch 36: train elapsed 7.7s val elapsed 0.9s | train loss: 0.154803 train f1: 0.950842 val loss: 0.630156 val f1: 0.666480\n",
            "epoch 37: train elapsed 7.7s val elapsed 0.9s | train loss: 0.152647 train f1: 0.950901 val loss: 0.643678 val f1: 0.666480\n",
            "epoch 38: train elapsed 7.7s val elapsed 0.9s | train loss: 0.143654 train f1: 0.953568 val loss: 0.649492 val f1: 0.664994\n",
            "epoch 39: train elapsed 7.7s val elapsed 0.9s | train loss: 0.140780 train f1: 0.952222 val loss: 0.663994 val f1: 0.662082\n",
            "epoch 40: train elapsed 7.7s val elapsed 0.9s | train loss: 0.133160 train f1: 0.957298 val loss: 0.666293 val f1: 0.659460\n",
            "epoch 41: train elapsed 7.7s val elapsed 0.9s | train loss: 0.130645 train f1: 0.956529 val loss: 0.665774 val f1: 0.662437\n",
            "epoch 42: train elapsed 7.7s val elapsed 0.9s | train loss: 0.123464 train f1: 0.960174 val loss: 0.672652 val f1: 0.667736\n",
            "epoch 43: train elapsed 7.7s val elapsed 0.9s | train loss: 0.118060 train f1: 0.958615 val loss: 0.692013 val f1: 0.661786\n",
            "epoch 44: train elapsed 7.7s val elapsed 0.9s | train loss: 0.118312 train f1: 0.960365 val loss: 0.673417 val f1: 0.656835\n",
            "epoch 45: train elapsed 7.7s val elapsed 0.9s | train loss: 0.109027 train f1: 0.962717 val loss: 0.671765 val f1: 0.662325\n",
            "epoch 46: train elapsed 7.7s val elapsed 0.9s | train loss: 0.109306 train f1: 0.961340 val loss: 0.670917 val f1: 0.663331\n",
            "epoch 47: train elapsed 7.7s val elapsed 0.9s | train loss: 0.105491 train f1: 0.963370 val loss: 0.704732 val f1: 0.663210\n",
            "epoch 48: train elapsed 7.7s val elapsed 0.9s | train loss: 0.101793 train f1: 0.967271 val loss: 0.679752 val f1: 0.665586\n",
            "epoch 49: train elapsed 7.7s val elapsed 0.9s | train loss: 0.098300 train f1: 0.967271 val loss: 0.708050 val f1: 0.659066\n"
          ]
        }
      ]
    },
    {
      "cell_type": "code",
      "source": [
        "plt.plot([d[\"train_loss\"] for d in train_metrics], label=\"train loss\")\n",
        "plt.plot([d[\"test_loss\"] for d in val_metrics], label=\"val loss\")\n",
        "plt.legend()\n",
        "plt.show()"
      ],
      "metadata": {
        "colab": {
          "base_uri": "https://localhost:8080/",
          "height": 430
        },
        "id": "aVoKp1hajmiH",
        "outputId": "33220c1d-641f-47df-97e0-cc423b525094"
      },
      "execution_count": 37,
      "outputs": [
        {
          "output_type": "display_data",
          "data": {
            "text/plain": [
              "<Figure size 640x480 with 1 Axes>"
            ],
            "image/png": "[encoded data removed]"
          },
          "metadata": {}
        }
      ]
    },
    {
      "cell_type": "markdown",
      "source": [
        "## Save model prediction\n",
        "\n",
        "Running this cell to save the model prediction to file `prediction.csv`, which you can download from the left hand side bar `Files` and submit it to your corresponding submit page for each group."
      ],
      "metadata": {
        "id": "zRhSvkCO7v3P"
      }
    },
    {
      "cell_type": "code",
      "source": [
        "print(\"Saving Prediction to csv\")\n",
        "test_csv_path = \"labeled_data/test/dataset_info.csv\"\n",
        "test_img_path = \"labeled_data/test/img\"\n",
        "test_dataset_info = pd.read_csv(test_csv_path)\n",
        "test_dataset = BasicAAADatasetWOLabel(test_img_path, test_dataset_info, num_classes)\n",
        "test_dataloader = DataLoader(test_dataset, batch_size=64, shuffle=False, num_workers=0)\n",
        "save_prediction(model, test_dataloader, test_dataset_info, class_labels)"
      ],
      "metadata": {
        "colab": {
          "base_uri": "https://localhost:8080/"
        },
        "id": "ATD0Q_WaWBwO",
        "outputId": "edb057df-43d2-4463-b806-81a8427a7036"
      },
      "execution_count": 38,
      "outputs": [
        {
          "output_type": "stream",
          "name": "stdout",
          "text": [
            "Saving Prediction to csv\n"
          ]
        }
      ]
    },
    {
      "cell_type": "markdown",
      "source": [
        "# Good Luck"
      ],
      "metadata": {
        "id": "eMztHmk7Sl5D"
      }
    }
  ]
}