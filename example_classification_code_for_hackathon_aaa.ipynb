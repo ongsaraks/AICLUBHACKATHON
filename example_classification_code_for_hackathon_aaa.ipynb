{
  "nbformat": 4,
  "nbformat_minor": 0,
  "metadata": {
    "colab": {
      "provenance": [],
      "gpuType": "T4",
      "include_colab_link": true
    },
    "kernelspec": {
      "name": "python3",
      "display_name": "Python 3"
    },
    "language_info": {
      "name": "python"
    },
    "accelerator": "GPU"
  },
  "cells": [
    {
      "cell_type": "markdown",
      "metadata": {
        "id": "view-in-github",
        "colab_type": "text"
      },
      "source": [
        "<a href=\"https://colab.research.google.com/github/ongsaraks/AICLUBHACKATHON/blob/main/example_classification_code_for_hackathon_aaa.ipynb\" target=\"_parent\"><img src=\"https://colab.research.google.com/assets/colab-badge.svg\" alt=\"Open In Colab\"/></a>"
      ]
    },
    {
      "cell_type": "markdown",
      "source": [
        "# Hackathon AAA starter code\n",
        "\n",
        "The file `labeled_data.zip` consists of 2 folders.\n",
        "- `train`\n",
        "- `test`\n",
        "\n",
        "All of the content in `train` can be used for train the model. It consists of image in the `img` folder and label in `dataset_info.csv`.\n",
        "\n",
        "The content in `test` must be used for submit score only. There will be only image in the `img` folder but there won't be label.\n",
        "\n",
        "The code below is an example of how to tackle the problem presented in hackathon.\n",
        "\n",
        "By doing nothing and run every cell in this notebook, it should produce F1 score around 0.6 on test set. Your task is to improve the F1 score on test set.\n",
        "\n",
        "There are hints scatter around the code below, most of them are what is generally works for most machine learning model."
      ],
      "metadata": {
        "id": "H9rqP-XyzOBM"
      }
    },
    {
      "cell_type": "code",
      "source": [
        "# !unzip labeled_data.zip"
      ],
      "metadata": {
        "collapsed": true,
        "id": "3ZMoCZ48gW7Z"
      },
      "execution_count": 103,
      "outputs": []
    },
    {
      "cell_type": "code",
      "source": [
        "import os\n",
        "from time import perf_counter\n",
        "import pandas as pd\n",
        "import json\n",
        "import torch\n",
        "from torch import nn\n",
        "from torch.utils.data import DataLoader, Dataset, Subset\n",
        "import torchvision\n",
        "from torchvision.transforms import v2 as transforms\n",
        "from PIL import Image\n",
        "from sklearn.metrics import f1_score\n",
        "import matplotlib.pyplot as plt\n",
        "import gc\n",
        "\n",
        "# ... inside the train function, after each epoch:\n",
        "gc.collect()\n",
        "torch.cuda.empty_cache()"
      ],
      "metadata": {
        "id": "zPvaU-AyVr9y"
      },
      "execution_count": 104,
      "outputs": []
    },
    {
      "cell_type": "code",
      "source": [
        "\n",
        "class BasicAAADataset(Dataset):\n",
        "    def __init__(self, img_dir, dataset_info, num_classes) -> None:\n",
        "        pil2tensor = transforms.PILToTensor()\n",
        "        resize = transforms.Resize(300, antialias=False, interpolation=transforms.InterpolationMode.NEAREST)\n",
        "        imgs = []\n",
        "        labels = []\n",
        "        for idx, row in dataset_info.iterrows():\n",
        "            with Image.open(os.path.join(img_dir, row[\"img_name\"])) as img_f:\n",
        "                img = pil2tensor(img_f)\n",
        "                img = resize(img) #  Hint: One can try random crop resize augmentation.\n",
        "            label = torch.zeros((num_classes, ))\n",
        "            for cls_name, cls_idx in class_labels.items():\n",
        "                if row[cls_name] == 1:\n",
        "                    label[cls_idx] = 1\n",
        "\n",
        "            imgs.append(img)\n",
        "            labels.append(label)\n",
        "\n",
        "        self.x = torch.stack(imgs).float()\n",
        "        self.y = torch.stack(labels)\n",
        "\n",
        "        self.n = len(self.x)\n",
        "        self.num_classes = num_classes\n",
        "\n",
        "    def __getitem__(self, idx):\n",
        "        x = self.x[idx]\n",
        "        y = self.y[idx]\n",
        "        return x, y\n",
        "\n",
        "    def __len__(self):\n",
        "        return self.n\n",
        "\n",
        "\n",
        "class BasicAAADatasetWOLabel(Dataset):\n",
        "    def __init__(self, img_dir, dataset_info, num_classes) -> None:\n",
        "        pil2tensor = transforms.PILToTensor()\n",
        "        resize = transforms.Resize(300, antialias=False, interpolation=transforms.InterpolationMode.NEAREST)\n",
        "        imgs = []\n",
        "\n",
        "        for idx, row in dataset_info.iterrows():\n",
        "            with Image.open(os.path.join(img_dir, row[\"img_name\"])) as img_f:\n",
        "                img = pil2tensor(img_f)\n",
        "                img = resize(img) # resize at this point to save memory. One can try random crop resize augmentation.\n",
        "\n",
        "            imgs.append(img)\n",
        "\n",
        "        self.x = torch.stack(imgs).float()\n",
        "\n",
        "        self.n = len(self.x)\n",
        "        self.num_classes = num_classes\n",
        "\n",
        "    def __getitem__(self, idx):\n",
        "        x = self.x[idx]\n",
        "        return x\n",
        "\n",
        "    def __len__(self):\n",
        "        return self.n\n",
        "\n",
        "def compute_f1_score(y_true, y_pred):\n",
        "    y_true = y_true.flatten()\n",
        "    y_pred = y_pred.flatten()\n",
        "    return f1_score(y_true, y_pred, average=\"macro\")\n",
        "\n",
        "def train(dataloader, model, loss_fn, optimizer):\n",
        "    num_batches = len(dataloader)\n",
        "    model.train()\n",
        "    loss_epoch = torch.tensor(0.).to(device)\n",
        "    y_true = []\n",
        "    y_pred = []\n",
        "    for batch, (X, y) in enumerate(dataloader):\n",
        "        X, y = X.to(device), y.to(device)\n",
        "\n",
        "        # Compute prediction error\n",
        "        pred = model(X)\n",
        "        loss = loss_fn(pred, y)\n",
        "\n",
        "        # Backpropagation\n",
        "        loss.backward()\n",
        "        optimizer.step()\n",
        "        optimizer.zero_grad()\n",
        "\n",
        "        loss_epoch += loss.detach()\n",
        "        pred = (torch.sigmoid(pred) > 0.449).float()\n",
        "        y_true.append(y.detach().cpu())\n",
        "        y_pred.append(pred.detach().cpu())\n",
        "\n",
        "    y_true = torch.concat(y_true)\n",
        "    y_pred = torch.concat(y_pred)\n",
        "    f1 = compute_f1_score(y_true, y_pred)\n",
        "    loss_epoch = (loss_epoch / num_batches).cpu()\n",
        "    return {\"train_loss\": loss_epoch, \"f1_score\": f1}\n",
        "\n",
        "@torch.no_grad()\n",
        "def test(dataloader, model, loss_fn):\n",
        "    num_batches = len(dataloader)\n",
        "    model.eval()\n",
        "    test_loss = torch.tensor(0.).to(device)\n",
        "    y_true = []\n",
        "    y_pred = []\n",
        "    for X, y in dataloader:\n",
        "        X, y = X.to(device), y.to(device)\n",
        "        pred = model(X)\n",
        "        test_loss += loss_fn(pred, y)\n",
        "        pred = (torch.sigmoid(pred) > 0.449).float() # Hint: 0.5 is just a kinda random number anyone can came up, one can try changing this number in range 0 to 1\n",
        "        y_true.append(y.cpu())\n",
        "        y_pred.append(pred.cpu())\n",
        "    y_true = torch.concat(y_true)\n",
        "    y_pred = torch.concat(y_pred)\n",
        "    f1 = compute_f1_score(y_true, y_pred)\n",
        "    test_loss = (test_loss / num_batches).cpu()\n",
        "    return {\"test_loss\": test_loss, \"f1_score\": f1}\n",
        "\n",
        "def save_prediction(model, test_dataloader, test_dataset_info, class_labels):\n",
        "    with torch.no_grad():\n",
        "        model.eval()\n",
        "        y_pred_all = []\n",
        "        threshold = 0.449\n",
        "        for x in test_dataloader:\n",
        "            x = x.to(device)\n",
        "            y_pred = model(x)\n",
        "            y_pred_all.append(torch.sigmoid(y_pred))\n",
        "        y_pred_all = torch.concat(y_pred_all, dim=0)\n",
        "        y_pred_all = (y_pred_all > threshold).int()\n",
        "        y_pred_all = y_pred_all.cpu()\n",
        "        prediction = {cls_name: y_pred_all[:, cls_idx] for cls_name, cls_idx in class_labels.items()}\n",
        "        prediction_df = pd.DataFrame(prediction)\n",
        "    img_name_df = test_dataset_info[[\"img_name\"]]\n",
        "    export_df = pd.concat([img_name_df, prediction_df], axis=1)\n",
        "    export_df.to_csv(\"prediction.csv\")"
      ],
      "metadata": {
        "id": "vm88AFlT6Aes"
      },
      "execution_count": 105,
      "outputs": []
    },
    {
      "cell_type": "code",
      "source": [
        "device = torch.device(\"cuda\") if torch.cuda.is_available() else torch.device(\"cpu\")\n",
        "train_csv_path = \"labeled_data/train/dataset_info.csv\"\n",
        "train_img_path = \"labeled_data/train/img\"\n",
        "\n",
        "class_labels_path = \"labeled_data/train/class_labels.json\"\n",
        "\n",
        "print(\"Loading dataset\")\n",
        "with open(class_labels_path) as f:\n",
        "    class_labels = json.load(f)\n",
        "    num_classes = len(class_labels)\n",
        "all_dataset_info = pd.read_csv(train_csv_path)\n",
        "\n",
        "all_dataset = BasicAAADataset(train_img_path, all_dataset_info, num_classes)\n",
        "whole_dataset_size = len(all_dataset)\n",
        "train_dataset_size = round(whole_dataset_size*0.7)\n",
        "train_dataset = Subset(all_dataset, range(0, train_dataset_size))\n",
        "train_dataloader = DataLoader(train_dataset, batch_size=64, shuffle=True, num_workers=0)\n",
        "\n",
        "val_dataset = Subset(all_dataset, range(train_dataset_size, whole_dataset_size))\n",
        "val_dataloader = DataLoader(val_dataset, batch_size=64, shuffle=False, num_workers=0)"
      ],
      "metadata": {
        "colab": {
          "base_uri": "https://localhost:8080/"
        },
        "id": "Tt2ZhT4gVxy-",
        "outputId": "9943d138-25b5-4578-88c8-ec8b7420334b"
      },
      "execution_count": 106,
      "outputs": [
        {
          "output_type": "stream",
          "name": "stdout",
          "text": [
            "Loading dataset\n"
          ]
        }
      ]
    },
    {
      "cell_type": "code",
      "source": [
        "print(\"Initalize model\")\n",
        "# Hint: One can try change model architecture, research on your own\n",
        "model = torchvision.models.mobilenet_v2(weights=torchvision.models.MobileNet_V2_Weights.DEFAULT)\n",
        "\n",
        "\n",
        "# print(model)\n",
        "\n",
        "# Fixing expected img channel, since our data has only 1 channel, different from mobilenet's expectation\n",
        "conv_existing_out_channels = model.features[0][0].out_channels\n",
        "conv_existing_kernel_size = model.features[0][0].kernel_size\n",
        "conv_existing_stride = model.features[0][0].stride\n",
        "conv_existing_padding = model.features[0][0].padding\n",
        "conv_existing_bias = model.features[0][0].bias\n",
        "model.features[0][0] = nn.Conv2d(1, conv_existing_out_channels, conv_existing_kernel_size, conv_existing_stride, conv_existing_padding, bias=conv_existing_bias)\n",
        "\n",
        "# Fixing out classifier, making number of classes be the same of our data\n",
        "existing_in_features = model.classifier[1].in_features\n",
        "model.classifier[1] = nn.Linear(existing_in_features, num_classes)\n",
        "\n",
        "model = model.to(device)\n",
        "\n",
        "# Hint: play with lr and pos weight\n",
        "optimizer = torch.optim.Adam(model.parameters(), lr=1e-2)\n",
        "loss_fn = nn.BCEWithLogitsLoss(pos_weight=torch.tensor(2))\n",
        "# print(model)\n",
        "\n",
        "train_metrics = []\n",
        "val_metrics = []"
      ],
      "metadata": {
        "colab": {
          "base_uri": "https://localhost:8080/"
        },
        "id": "9nBi8zcwj-on",
        "outputId": "3b3c2ba9-3f85-44a5-f736-9304d1995a98"
      },
      "execution_count": 107,
      "outputs": [
        {
          "output_type": "stream",
          "name": "stdout",
          "text": [
            "Initalize model\n"
          ]
        }
      ]
    },
    {
      "cell_type": "code",
      "source": [
        "n_epochs = 23\n",
        "print(\"Start training!\")\n",
        "for epoch in range(n_epochs):\n",
        "    start_train_time = perf_counter()\n",
        "    train_metrics_epoch = train(train_dataloader, model, loss_fn, optimizer)\n",
        "    train_elapsed = perf_counter() - start_train_time\n",
        "\n",
        "    # hint: One can try save the best model with respect to the validation metrics. eg. if model at epoch 23 produces the best value of f1, we may use that model for produce model prediction instead of model at last epoch\n",
        "    start_test_time = perf_counter()\n",
        "    val_metrics_epoch = test(val_dataloader, model, loss_fn)\n",
        "    val_elapsed = perf_counter() - start_test_time\n",
        "\n",
        "    train_metrics.append(train_metrics_epoch)\n",
        "    val_metrics.append(val_metrics_epoch)\n",
        "\n",
        "    print(f'epoch {epoch}: train elapsed {train_elapsed:.1f}s val elapsed {val_elapsed:.1f}s | train loss: {train_metrics_epoch[\"train_loss\"]:.6f} train f1: {train_metrics_epoch[\"f1_score\"]:.6f} val loss: {val_metrics_epoch[\"test_loss\"]:.6f} val f1: {val_metrics_epoch[\"f1_score\"]:.6f}')"
      ],
      "metadata": {
        "colab": {
          "base_uri": "https://localhost:8080/"
        },
        "id": "PE27N_0xkDQN",
        "outputId": "c22cf3a2-23eb-4a12-965f-a53adec63f34"
      },
      "execution_count": 108,
      "outputs": [
        {
          "output_type": "stream",
          "name": "stdout",
          "text": [
            "Start training!\n",
            "epoch 0: train elapsed 15.6s val elapsed 1.7s | train loss: 0.660417 train f1: 0.720074 val loss: 2.542533 val f1: 0.691955\n",
            "epoch 1: train elapsed 15.3s val elapsed 1.6s | train loss: 0.611566 train f1: 0.757105 val loss: 1.039218 val f1: 0.674615\n",
            "epoch 2: train elapsed 14.9s val elapsed 1.7s | train loss: 0.509486 train f1: 0.795389 val loss: 1.417719 val f1: 0.638291\n",
            "epoch 3: train elapsed 14.8s val elapsed 1.6s | train loss: 0.464473 train f1: 0.824570 val loss: 1.306520 val f1: 0.661881\n",
            "epoch 4: train elapsed 14.8s val elapsed 1.6s | train loss: 0.389089 train f1: 0.867041 val loss: 2.180637 val f1: 0.730333\n",
            "epoch 5: train elapsed 14.9s val elapsed 1.7s | train loss: 0.322296 train f1: 0.884667 val loss: 1.067922 val f1: 0.675697\n",
            "epoch 6: train elapsed 15.0s val elapsed 1.6s | train loss: 0.295112 train f1: 0.895270 val loss: 1.327576 val f1: 0.661038\n",
            "epoch 7: train elapsed 15.0s val elapsed 1.7s | train loss: 0.248076 train f1: 0.923398 val loss: 1.261878 val f1: 0.691350\n",
            "epoch 8: train elapsed 14.9s val elapsed 1.7s | train loss: 0.237672 train f1: 0.926432 val loss: 1.794994 val f1: 0.630453\n",
            "epoch 9: train elapsed 14.9s val elapsed 1.6s | train loss: 0.251178 train f1: 0.916392 val loss: 1.617712 val f1: 0.574422\n",
            "epoch 10: train elapsed 14.9s val elapsed 1.6s | train loss: 0.260431 train f1: 0.917445 val loss: 1.928571 val f1: 0.613838\n",
            "epoch 11: train elapsed 14.9s val elapsed 1.6s | train loss: 0.229170 train f1: 0.923227 val loss: 1.695482 val f1: 0.631378\n",
            "epoch 12: train elapsed 14.9s val elapsed 1.6s | train loss: 0.196090 train f1: 0.937655 val loss: 1.768034 val f1: 0.649049\n",
            "epoch 13: train elapsed 14.9s val elapsed 1.6s | train loss: 0.175213 train f1: 0.948847 val loss: 1.819332 val f1: 0.539199\n",
            "epoch 14: train elapsed 14.9s val elapsed 1.6s | train loss: 0.172794 train f1: 0.949502 val loss: 2.037892 val f1: 0.634922\n",
            "epoch 15: train elapsed 14.9s val elapsed 1.7s | train loss: 0.172339 train f1: 0.948054 val loss: 2.054887 val f1: 0.695760\n",
            "epoch 16: train elapsed 14.9s val elapsed 1.6s | train loss: 0.169310 train f1: 0.946802 val loss: 1.819442 val f1: 0.647874\n",
            "epoch 17: train elapsed 14.9s val elapsed 1.6s | train loss: 0.152740 train f1: 0.953665 val loss: 1.889969 val f1: 0.640131\n",
            "epoch 18: train elapsed 14.9s val elapsed 1.7s | train loss: 0.145757 train f1: 0.956051 val loss: 1.822335 val f1: 0.616088\n",
            "epoch 19: train elapsed 14.9s val elapsed 1.6s | train loss: 0.156203 train f1: 0.951687 val loss: 1.794835 val f1: 0.643986\n",
            "epoch 20: train elapsed 14.9s val elapsed 1.7s | train loss: 0.163990 train f1: 0.949302 val loss: 2.636714 val f1: 0.581693\n",
            "epoch 21: train elapsed 14.9s val elapsed 1.7s | train loss: 0.142744 train f1: 0.953595 val loss: 1.624824 val f1: 0.616058\n",
            "epoch 22: train elapsed 14.9s val elapsed 1.6s | train loss: 0.120488 train f1: 0.963320 val loss: 2.083941 val f1: 0.581502\n"
          ]
        }
      ]
    },
    {
      "cell_type": "code",
      "source": [
        "plt.plot([d[\"train_loss\"] for d in train_metrics], label=\"train loss\")\n",
        "plt.plot([d[\"test_loss\"] for d in val_metrics], label=\"val loss\")\n",
        "plt.legend()\n",
        "plt.show()"
      ],
      "metadata": {
        "colab": {
          "base_uri": "https://localhost:8080/",
          "height": 430
        },
        "id": "aVoKp1hajmiH",
        "outputId": "ac5fb8cb-c981-48c8-f565-342732ed7c7d"
      },
      "execution_count": 109,
      "outputs": [
        {
          "output_type": "display_data",
          "data": {
            "text/plain": [
              "<Figure size 640x480 with 1 Axes>"
            ],
            "image/png": "[encoded data removed]"
          },
          "metadata": {}
        }
      ]
    },
    {
      "cell_type": "markdown",
      "source": [
        "## Save model prediction\n",
        "\n",
        "Running this cell to save the model prediction to file `prediction.csv`, which you can download from the left hand side bar `Files` and submit it to your corresponding submit page for each group."
      ],
      "metadata": {
        "id": "zRhSvkCO7v3P"
      }
    },
    {
      "cell_type": "code",
      "source": [
        "print(\"Saving Prediction to csv\")\n",
        "test_csv_path = \"labeled_data/test/dataset_info.csv\"\n",
        "test_img_path = \"labeled_data/test/img\"\n",
        "test_dataset_info = pd.read_csv(test_csv_path)\n",
        "test_dataset = BasicAAADatasetWOLabel(test_img_path, test_dataset_info, num_classes)\n",
        "test_dataloader = DataLoader(test_dataset, batch_size=64, shuffle=False, num_workers=0)\n",
        "save_prediction(model, test_dataloader, test_dataset_info, class_labels)"
      ],
      "metadata": {
        "colab": {
          "base_uri": "https://localhost:8080/"
        },
        "id": "ATD0Q_WaWBwO",
        "outputId": "a370006b-59fa-4a3f-aaac-aa6f655001b4"
      },
      "execution_count": 110,
      "outputs": [
        {
          "output_type": "stream",
          "name": "stdout",
          "text": [
            "Saving Prediction to csv\n"
          ]
        }
      ]
    },
    {
      "cell_type": "markdown",
      "source": [
        "# Good Luck"
      ],
      "metadata": {
        "id": "eMztHmk7Sl5D"
      }
    }
  ]
}