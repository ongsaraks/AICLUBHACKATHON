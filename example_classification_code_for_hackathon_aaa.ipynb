{
  "nbformat": 4,
  "nbformat_minor": 0,
  "metadata": {
    "colab": {
      "provenance": [],
      "gpuType": "T4",
      "include_colab_link": true
    },
    "kernelspec": {
      "name": "python3",
      "display_name": "Python 3"
    },
    "language_info": {
      "name": "python"
    },
    "accelerator": "GPU"
  },
  "cells": [
    {
      "cell_type": "markdown",
      "metadata": {
        "id": "view-in-github",
        "colab_type": "text"
      },
      "source": [
        "<a href=\"https://colab.research.google.com/github/ongsaraks/AICLUBHACKATHON/blob/main/example_classification_code_for_hackathon_aaa.ipynb\" target=\"_parent\"><img src=\"https://colab.research.google.com/assets/colab-badge.svg\" alt=\"Open In Colab\"/></a>"
      ]
    },
    {
      "cell_type": "markdown",
      "source": [
        "# Hackathon AAA starter code\n",
        "\n",
        "The file `labeled_data.zip` consists of 2 folders.\n",
        "- `train`\n",
        "- `test`\n",
        "\n",
        "All of the content in `train` can be used for train the model. It consists of image in the `img` folder and label in `dataset_info.csv`.\n",
        "\n",
        "The content in `test` must be used for submit score only. There will be only image in the `img` folder but there won't be label.\n",
        "\n",
        "The code below is an example of how to tackle the problem presented in hackathon.\n",
        "\n",
        "By doing nothing and run every cell in this notebook, it should produce F1 score around 0.6 on test set. Your task is to improve the F1 score on test set.\n",
        "\n",
        "There are hints scatter around the code below, most of them are what is generally works for most machine learning model."
      ],
      "metadata": {
        "id": "H9rqP-XyzOBM"
      }
    },
    {
      "cell_type": "code",
      "source": [
        "!unzip labeled_data.zip"
      ],
      "metadata": {
        "colab": {
          "base_uri": "https://localhost:8080/"
        },
        "collapsed": true,
        "id": "3ZMoCZ48gW7Z",
        "outputId": "77101b0c-7e45-4a06-fc99-8ab33bda27a4"
      },
      "execution_count": null,
      "outputs": [
        {
          "metadata": {
            "tags": null
          },
          "name": "stdout",
          "output_type": "stream",
          "text": [
            "Archive:  labeled_data.zip\n",
            "replace labeled_data/test/class_labels.json? [y]es, [n]o, [A]ll, [N]one, [r]ename: "
          ]
        }
      ]
    },
    {
      "cell_type": "code",
      "source": [
        "import os\n",
        "from time import perf_counter\n",
        "import pandas as pd\n",
        "import json\n",
        "import torch\n",
        "from torch import nn\n",
        "from torch.utils.data import DataLoader, Dataset, Subset\n",
        "import torchvision\n",
        "from torchvision.transforms import v2 as transforms\n",
        "from PIL import Image\n",
        "from sklearn.metrics import f1_score\n",
        "import matplotlib.pyplot as plt"
      ],
      "metadata": {
        "id": "zPvaU-AyVr9y"
      },
      "execution_count": null,
      "outputs": []
    },
    {
      "cell_type": "code",
      "source": [
        "\n",
        "class BasicAAADataset(Dataset):\n",
        "    def __init__(self, img_dir, dataset_info, num_classes) -> None:\n",
        "        pil2tensor = transforms.PILToTensor()\n",
        "        resize = transforms.Resize(224, antialias=False, interpolation=transforms.InterpolationMode.NEAREST)\n",
        "        imgs = []\n",
        "        labels = []\n",
        "        for idx, row in dataset_info.iterrows():\n",
        "            with Image.open(os.path.join(img_dir, row[\"img_name\"])) as img_f:\n",
        "                img = pil2tensor(img_f)\n",
        "                img = resize(img) #  Hint: One can try random crop resize augmentation.\n",
        "            label = torch.zeros((num_classes, ))\n",
        "            for cls_name, cls_idx in class_labels.items():\n",
        "                if row[cls_name] == 1:\n",
        "                    label[cls_idx] = 1\n",
        "\n",
        "            imgs.append(img)\n",
        "            labels.append(label)\n",
        "\n",
        "        self.x = torch.stack(imgs).float()\n",
        "        self.y = torch.stack(labels)\n",
        "\n",
        "        self.n = len(self.x)\n",
        "        self.num_classes = num_classes\n",
        "\n",
        "    def __getitem__(self, idx):\n",
        "        x = self.x[idx]\n",
        "        y = self.y[idx]\n",
        "        return x, y\n",
        "\n",
        "    def __len__(self):\n",
        "        return self.n\n",
        "\n",
        "\n",
        "class BasicAAADatasetWOLabel(Dataset):\n",
        "    def __init__(self, img_dir, dataset_info, num_classes) -> None:\n",
        "        pil2tensor = transforms.PILToTensor()\n",
        "        resize = transforms.Resize(224, antialias=False, interpolation=transforms.InterpolationMode.NEAREST)\n",
        "        imgs = []\n",
        "\n",
        "        for idx, row in dataset_info.iterrows():\n",
        "            with Image.open(os.path.join(img_dir, row[\"img_name\"])) as img_f:\n",
        "                img = pil2tensor(img_f)\n",
        "                img = resize(img) # resize at this point to save memory. One can try random crop resize augmentation.\n",
        "\n",
        "            imgs.append(img)\n",
        "\n",
        "        self.x = torch.stack(imgs).float()\n",
        "\n",
        "        self.n = len(self.x)\n",
        "        self.num_classes = num_classes\n",
        "\n",
        "    def __getitem__(self, idx):\n",
        "        x = self.x[idx]\n",
        "        return x\n",
        "\n",
        "    def __len__(self):\n",
        "        return self.n\n",
        "\n",
        "def compute_f1_score(y_true, y_pred):\n",
        "    y_true = y_true.flatten()\n",
        "    y_pred = y_pred.flatten()\n",
        "    return f1_score(y_true, y_pred, average=\"macro\")\n",
        "\n",
        "def train(dataloader, model, loss_fn, optimizer):\n",
        "    num_batches = len(dataloader)\n",
        "    model.train()\n",
        "    loss_epoch = torch.tensor(0.).to(device)\n",
        "    y_true = []\n",
        "    y_pred = []\n",
        "    for batch, (X, y) in enumerate(dataloader):\n",
        "        X, y = X.to(device), y.to(device)\n",
        "\n",
        "        # Compute prediction error\n",
        "        pred = model(X)\n",
        "        loss = loss_fn(pred, y)\n",
        "\n",
        "        # Backpropagation\n",
        "        loss.backward()\n",
        "        optimizer.step()\n",
        "        optimizer.zero_grad()\n",
        "\n",
        "        loss_epoch += loss.detach()\n",
        "        pred = (torch.sigmoid(pred) > 0.5).float()\n",
        "        y_true.append(y.detach().cpu())\n",
        "        y_pred.append(pred.detach().cpu())\n",
        "\n",
        "    y_true = torch.concat(y_true)\n",
        "    y_pred = torch.concat(y_pred)\n",
        "    f1 = compute_f1_score(y_true, y_pred)\n",
        "    loss_epoch = (loss_epoch / num_batches).cpu()\n",
        "    return {\"train_loss\": loss_epoch, \"f1_score\": f1}\n",
        "\n",
        "@torch.no_grad()\n",
        "def test(dataloader, model, loss_fn):\n",
        "    num_batches = len(dataloader)\n",
        "    model.eval()\n",
        "    test_loss = torch.tensor(0.).to(device)\n",
        "    y_true = []\n",
        "    y_pred = []\n",
        "    for X, y in dataloader:\n",
        "        X, y = X.to(device), y.to(device)\n",
        "        pred = model(X)\n",
        "        test_loss += loss_fn(pred, y)\n",
        "        pred = (torch.sigmoid(pred) > 0.5).float() # Hint: 0.5 is just a kinda random number anyone can came up, one can try changing this number in range 0 to 1\n",
        "        y_true.append(y.cpu())\n",
        "        y_pred.append(pred.cpu())\n",
        "    y_true = torch.concat(y_true)\n",
        "    y_pred = torch.concat(y_pred)\n",
        "    f1 = compute_f1_score(y_true, y_pred)\n",
        "    test_loss = (test_loss / num_batches).cpu()\n",
        "    return {\"test_loss\": test_loss, \"f1_score\": f1}\n",
        "\n",
        "def save_prediction(model, test_dataloader, test_dataset_info, class_labels):\n",
        "    with torch.no_grad():\n",
        "        model.eval()\n",
        "        y_pred_all = []\n",
        "        threshold = 0.5\n",
        "        for x in test_dataloader:\n",
        "            x = x.to(device)\n",
        "            y_pred = model(x)\n",
        "            y_pred_all.append(torch.sigmoid(y_pred))\n",
        "        y_pred_all = torch.concat(y_pred_all, dim=0)\n",
        "        y_pred_all = (y_pred_all > threshold).int()\n",
        "        y_pred_all = y_pred_all.cpu()\n",
        "        prediction = {cls_name: y_pred_all[:, cls_idx] for cls_name, cls_idx in class_labels.items()}\n",
        "        prediction_df = pd.DataFrame(prediction)\n",
        "    img_name_df = test_dataset_info[[\"img_name\"]]\n",
        "    export_df = pd.concat([img_name_df, prediction_df], axis=1)\n",
        "    export_df.to_csv(\"prediction.csv\")"
      ],
      "metadata": {
        "id": "vm88AFlT6Aes"
      },
      "execution_count": null,
      "outputs": []
    },
    {
      "cell_type": "code",
      "source": [
        "device = torch.device(\"cuda\") if torch.cuda.is_available() else torch.device(\"cpu\")\n",
        "train_csv_path = \"labeled_data/train/dataset_info.csv\"\n",
        "train_img_path = \"labeled_data/train/img\"\n",
        "\n",
        "class_labels_path = \"labeled_data/train/class_labels.json\"\n",
        "\n",
        "print(\"Loading dataset\")\n",
        "with open(class_labels_path) as f:\n",
        "    class_labels = json.load(f)\n",
        "    num_classes = len(class_labels)\n",
        "all_dataset_info = pd.read_csv(train_csv_path)\n",
        "\n",
        "all_dataset = BasicAAADataset(train_img_path, all_dataset_info, num_classes)\n",
        "whole_dataset_size = len(all_dataset)\n",
        "train_dataset_size = round(whole_dataset_size*0.7)\n",
        "train_dataset = Subset(all_dataset, range(0, train_dataset_size))\n",
        "train_dataloader = DataLoader(train_dataset, batch_size=64, shuffle=True, num_workers=0)\n",
        "\n",
        "val_dataset = Subset(all_dataset, range(train_dataset_size, whole_dataset_size))\n",
        "val_dataloader = DataLoader(val_dataset, batch_size=64, shuffle=False, num_workers=0)"
      ],
      "metadata": {
        "colab": {
          "base_uri": "https://localhost:8080/"
        },
        "id": "Tt2ZhT4gVxy-",
        "outputId": "6cd1c5d3-d84c-4e60-e3bf-65bc903ae003"
      },
      "execution_count": null,
      "outputs": [
        {
          "output_type": "stream",
          "name": "stdout",
          "text": [
            "Loading dataset\n"
          ]
        }
      ]
    },
    {
      "cell_type": "code",
      "source": [
        "print(\"Initalize model\")\n",
        "# Hint: One can try change model architecture, research on your own\n",
        "model = torchvision.models.mobilenet_v2(weights=torchvision.models.MobileNet_V2_Weights.DEFAULT)\n",
        "# print(model)\n",
        "\n",
        "# Fixing expected img channel, since our data has only 1 channel, different from mobilenet's expectation\n",
        "conv_existing_out_channels = model.features[0][0].out_channels\n",
        "conv_existing_kernel_size = model.features[0][0].kernel_size\n",
        "conv_existing_stride = model.features[0][0].stride\n",
        "conv_existing_padding = model.features[0][0].padding\n",
        "conv_existing_bias = model.features[0][0].bias\n",
        "model.features[0][0] = nn.Conv2d(1, conv_existing_out_channels, conv_existing_kernel_size, conv_existing_stride, conv_existing_padding, bias=conv_existing_bias)\n",
        "\n",
        "# Fixing out classifier, making number of classes be the same of our data\n",
        "existing_in_features = model.classifier[1].in_features\n",
        "model.classifier[1] = nn.Linear(existing_in_features, num_classes)\n",
        "\n",
        "model = model.to(device)\n",
        "\n",
        "# Hint: play with lr and pos weight\n",
        "optimizer = torch.optim.Adam(model.parameters(), lr=1e-5)\n",
        "loss_fn = nn.BCEWithLogitsLoss(pos_weight=torch.tensor(1))\n",
        "# print(model)\n",
        "\n",
        "train_metrics = []\n",
        "val_metrics = []"
      ],
      "metadata": {
        "colab": {
          "base_uri": "https://localhost:8080/"
        },
        "id": "9nBi8zcwj-on",
        "outputId": "2fb745ac-cbce-459f-9c7a-437539c75c8b"
      },
      "execution_count": null,
      "outputs": [
        {
          "output_type": "stream",
          "name": "stderr",
          "text": [
            "Downloading: \"https://download.pytorch.org/models/mobilenet_v2-7ebf99e0.pth\" to /root/.cache/torch/hub/checkpoints/mobilenet_v2-7ebf99e0.pth\n"
          ]
        },
        {
          "output_type": "stream",
          "name": "stdout",
          "text": [
            "Initalize model\n"
          ]
        },
        {
          "output_type": "stream",
          "name": "stderr",
          "text": [
            "100%|██████████| 13.6M/13.6M [00:00<00:00, 66.9MB/s]\n"
          ]
        }
      ]
    },
    {
      "cell_type": "code",
      "source": [
        "n_epochs = 50\n",
        "print(\"Start training!\")\n",
        "for epoch in range(n_epochs):\n",
        "    start_train_time = perf_counter()\n",
        "    train_metrics_epoch = train(train_dataloader, model, loss_fn, optimizer)\n",
        "    train_elapsed = perf_counter() - start_train_time\n",
        "\n",
        "    # hint: One can try save the best model with respect to the validation metrics. eg. if model at epoch 23 produces the best value of f1, we may use that model for produce model prediction instead of model at last epoch\n",
        "    start_test_time = perf_counter()\n",
        "    val_metrics_epoch = test(val_dataloader, model, loss_fn)\n",
        "    val_elapsed = perf_counter() - start_test_time\n",
        "\n",
        "    train_metrics.append(train_metrics_epoch)\n",
        "    val_metrics.append(val_metrics_epoch)\n",
        "\n",
        "    print(f'epoch {epoch}: train elapsed {train_elapsed:.1f}s val elapsed {val_elapsed:.1f}s | train loss: {train_metrics_epoch[\"train_loss\"]:.6f} train f1: {train_metrics_epoch[\"f1_score\"]:.6f} val loss: {val_metrics_epoch[\"test_loss\"]:.6f} val f1: {val_metrics_epoch[\"f1_score\"]:.6f}')"
      ],
      "metadata": {
        "colab": {
          "base_uri": "https://localhost:8080/"
        },
        "id": "PE27N_0xkDQN",
        "outputId": "7be0e999-f816-4a7f-e9c5-d367641b7513"
      },
      "execution_count": 22,
      "outputs": [
        {
          "metadata": {
            "tags": null
          },
          "name": "stdout",
          "output_type": "stream",
          "text": [
            "Start training!\n",
            "epoch 0: train elapsed 8.5s val elapsed 0.9s | train loss: 0.678655 train f1: 0.587363 val loss: 0.674191 val f1: 0.607460\n",
            "epoch 1: train elapsed 7.2s val elapsed 0.8s | train loss: 0.653815 train f1: 0.690980 val loss: 0.655732 val f1: 0.683150\n",
            "epoch 2: train elapsed 7.2s val elapsed 0.8s | train loss: 0.631747 train f1: 0.743864 val loss: 0.642730 val f1: 0.704277\n",
            "epoch 3: train elapsed 7.2s val elapsed 0.9s | train loss: 0.612218 train f1: 0.761512 val loss: 0.629486 val f1: 0.708745\n",
            "epoch 4: train elapsed 7.3s val elapsed 0.9s | train loss: 0.592157 train f1: 0.784815 val loss: 0.616789 val f1: 0.716230\n",
            "epoch 5: train elapsed 7.3s val elapsed 0.9s | train loss: 0.572802 train f1: 0.795956 val loss: 0.607941 val f1: 0.709979\n",
            "epoch 6: train elapsed 7.3s val elapsed 0.9s | train loss: 0.552497 train f1: 0.807187 val loss: 0.596804 val f1: 0.715006\n",
            "epoch 7: train elapsed 7.4s val elapsed 0.9s | train loss: 0.533465 train f1: 0.812635 val loss: 0.588769 val f1: 0.706277\n",
            "epoch 8: train elapsed 7.4s val elapsed 0.9s | train loss: 0.515060 train f1: 0.823208 val loss: 0.578452 val f1: 0.715878\n",
            "epoch 9: train elapsed 7.4s val elapsed 0.9s | train loss: 0.495474 train f1: 0.829813 val loss: 0.569585 val f1: 0.707940\n",
            "epoch 10: train elapsed 7.5s val elapsed 0.9s | train loss: 0.478134 train f1: 0.834871 val loss: 0.558111 val f1: 0.727568\n",
            "epoch 11: train elapsed 7.5s val elapsed 0.9s | train loss: 0.457963 train f1: 0.843907 val loss: 0.554305 val f1: 0.721408\n",
            "epoch 12: train elapsed 7.5s val elapsed 0.9s | train loss: 0.441006 train f1: 0.849884 val loss: 0.544460 val f1: 0.732521\n",
            "epoch 13: train elapsed 7.6s val elapsed 0.9s | train loss: 0.421561 train f1: 0.850397 val loss: 0.539185 val f1: 0.731723\n",
            "epoch 14: train elapsed 7.6s val elapsed 0.9s | train loss: 0.407407 train f1: 0.858240 val loss: 0.533075 val f1: 0.728220\n",
            "epoch 15: train elapsed 7.6s val elapsed 0.9s | train loss: 0.390526 train f1: 0.863053 val loss: 0.528071 val f1: 0.739056\n",
            "epoch 16: train elapsed 7.7s val elapsed 0.9s | train loss: 0.366900 train f1: 0.875767 val loss: 0.520287 val f1: 0.748929\n",
            "epoch 17: train elapsed 7.7s val elapsed 0.9s | train loss: 0.353828 train f1: 0.877235 val loss: 0.520078 val f1: 0.741433\n",
            "epoch 18: train elapsed 7.7s val elapsed 0.9s | train loss: 0.336630 train f1: 0.886240 val loss: 0.511685 val f1: 0.748032\n",
            "epoch 19: train elapsed 7.6s val elapsed 0.9s | train loss: 0.315891 train f1: 0.896246 val loss: 0.508544 val f1: 0.749941\n",
            "epoch 20: train elapsed 7.6s val elapsed 0.9s | train loss: 0.301192 train f1: 0.899994 val loss: 0.515494 val f1: 0.743259\n",
            "epoch 21: train elapsed 7.6s val elapsed 0.9s | train loss: 0.282690 train f1: 0.905257 val loss: 0.517051 val f1: 0.742910\n",
            "epoch 22: train elapsed 7.6s val elapsed 0.9s | train loss: 0.268216 train f1: 0.914212 val loss: 0.516872 val f1: 0.741996\n",
            "epoch 23: train elapsed 7.6s val elapsed 0.9s | train loss: 0.253133 train f1: 0.915989 val loss: 0.511872 val f1: 0.741141\n",
            "epoch 24: train elapsed 7.6s val elapsed 0.9s | train loss: 0.242272 train f1: 0.921566 val loss: 0.520679 val f1: 0.742100\n",
            "epoch 25: train elapsed 7.7s val elapsed 0.9s | train loss: 0.224890 train f1: 0.926435 val loss: 0.521944 val f1: 0.734730\n",
            "epoch 26: train elapsed 7.7s val elapsed 0.9s | train loss: 0.216269 train f1: 0.926760 val loss: 0.530788 val f1: 0.738275\n",
            "epoch 27: train elapsed 7.7s val elapsed 0.9s | train loss: 0.206148 train f1: 0.930381 val loss: 0.534957 val f1: 0.732701\n",
            "epoch 28: train elapsed 7.6s val elapsed 0.9s | train loss: 0.196022 train f1: 0.938710 val loss: 0.528938 val f1: 0.727225\n",
            "epoch 29: train elapsed 7.6s val elapsed 0.9s | train loss: 0.185488 train f1: 0.940694 val loss: 0.535050 val f1: 0.725162\n",
            "epoch 30: train elapsed 7.7s val elapsed 0.9s | train loss: 0.178956 train f1: 0.946562 val loss: 0.541005 val f1: 0.726216\n",
            "epoch 31: train elapsed 7.6s val elapsed 0.9s | train loss: 0.172361 train f1: 0.947007 val loss: 0.547978 val f1: 0.726298\n",
            "epoch 32: train elapsed 7.6s val elapsed 0.9s | train loss: 0.163353 train f1: 0.948722 val loss: 0.557359 val f1: 0.724661\n",
            "epoch 33: train elapsed 7.6s val elapsed 0.9s | train loss: 0.156186 train f1: 0.950764 val loss: 0.547615 val f1: 0.724661\n",
            "epoch 34: train elapsed 7.6s val elapsed 0.9s | train loss: 0.147341 train f1: 0.956018 val loss: 0.558805 val f1: 0.725373\n",
            "epoch 35: train elapsed 7.6s val elapsed 0.9s | train loss: 0.139418 train f1: 0.955179 val loss: 0.557615 val f1: 0.724612\n",
            "epoch 36: train elapsed 7.6s val elapsed 0.9s | train loss: 0.137633 train f1: 0.957883 val loss: 0.567721 val f1: 0.722100\n",
            "epoch 37: train elapsed 7.6s val elapsed 0.9s | train loss: 0.133970 train f1: 0.958586 val loss: 0.594383 val f1: 0.721031\n",
            "epoch 38: train elapsed 7.6s val elapsed 0.9s | train loss: 0.130978 train f1: 0.959158 val loss: 0.569154 val f1: 0.723604\n",
            "epoch 39: train elapsed 7.6s val elapsed 0.9s | train loss: 0.120360 train f1: 0.962659 val loss: 0.583791 val f1: 0.721254\n",
            "epoch 40: train elapsed 7.6s val elapsed 0.9s | train loss: 0.114156 train f1: 0.961861 val loss: 0.590195 val f1: 0.716907\n",
            "epoch 41: train elapsed 7.6s val elapsed 0.9s | train loss: 0.113327 train f1: 0.964194 val loss: 0.584514 val f1: 0.717784\n",
            "epoch 42: train elapsed 7.6s val elapsed 0.9s | train loss: 0.114006 train f1: 0.964402 val loss: 0.610909 val f1: 0.713341\n",
            "epoch 43: train elapsed 7.6s val elapsed 0.9s | train loss: 0.105563 train f1: 0.965945 val loss: 0.609398 val f1: 0.708566\n",
            "epoch 44: train elapsed 7.6s val elapsed 0.9s | train loss: 0.103701 train f1: 0.965416 val loss: 0.597901 val f1: 0.720796\n",
            "epoch 45: train elapsed 7.7s val elapsed 0.9s | train loss: 0.098111 train f1: 0.966104 val loss: 0.625904 val f1: 0.713483\n",
            "epoch 46: train elapsed 7.6s val elapsed 0.9s | train loss: 0.092424 train f1: 0.968299 val loss: 0.620838 val f1: 0.709630\n",
            "epoch 47: train elapsed 7.6s val elapsed 0.9s | train loss: 0.093794 train f1: 0.968326 val loss: 0.641576 val f1: 0.710930\n",
            "epoch 48: train elapsed 7.7s val elapsed 0.9s | train loss: 0.089963 train f1: 0.968480 val loss: 0.635575 val f1: 0.713253\n",
            "epoch 49: train elapsed 7.6s val elapsed 0.9s | train loss: 0.089009 train f1: 0.970998 val loss: 0.676364 val f1: 0.707302\n"
          ]
        }
      ]
    },
    {
      "cell_type": "code",
      "source": [
        "plt.plot([d[\"train_loss\"] for d in train_metrics], label=\"train loss\")\n",
        "plt.plot([d[\"test_loss\"] for d in val_metrics], label=\"val loss\")\n",
        "plt.legend()\n",
        "plt.show()"
      ],
      "metadata": {
        "colab": {
          "base_uri": "https://localhost:8080/",
          "height": 431
        },
        "id": "aVoKp1hajmiH",
        "outputId": "dfe3f2d9-c598-4af0-b1bd-cf8581a7fa13"
      },
      "execution_count": 23,
      "outputs": [
        {
          "data": {
            "image/png": "[encoded data removed]",
            "text/plain": [
              "<Figure size 640x480 with 1 Axes>"
            ]
          },
          "metadata": {},
          "output_type": "display_data"
        }
      ]
    },
    {
      "cell_type": "markdown",
      "source": [
        "## Save model prediction\n",
        "\n",
        "Running this cell to save the model prediction to file `prediction.csv`, which you can download from the left hand side bar `Files` and submit it to your corresponding submit page for each group."
      ],
      "metadata": {
        "id": "zRhSvkCO7v3P"
      }
    },
    {
      "cell_type": "code",
      "source": [
        "print(\"Saving Prediction to csv\")\n",
        "test_csv_path = \"labeled_data/test/dataset_info.csv\"\n",
        "test_img_path = \"labeled_data/test/img\"\n",
        "test_dataset_info = pd.read_csv(test_csv_path)\n",
        "test_dataset = BasicAAADatasetWOLabel(test_img_path, test_dataset_info, num_classes)\n",
        "test_dataloader = DataLoader(test_dataset, batch_size=64, shuffle=False, num_workers=0)\n",
        "save_prediction(model, test_dataloader, test_dataset_info, class_labels)"
      ],
      "metadata": {
        "colab": {
          "base_uri": "https://localhost:8080/"
        },
        "id": "ATD0Q_WaWBwO",
        "outputId": "f7bb6cdd-32bb-40eb-b278-51711b337cfe"
      },
      "execution_count": 24,
      "outputs": [
        {
          "metadata": {
            "tags": null
          },
          "name": "stdout",
          "output_type": "stream",
          "text": [
            "Saving Prediction to csv\n"
          ]
        }
      ]
    },
    {
      "cell_type": "markdown",
      "source": [
        "# Good Luck"
      ],
      "metadata": {
        "id": "eMztHmk7Sl5D"
      }
    }
  ]
}